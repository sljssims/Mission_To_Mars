{
 "cells": [
  {
   "cell_type": "code",
   "execution_count": 66,
   "id": "40ed5224",
   "metadata": {},
   "outputs": [],
   "source": [
    "####################################\n",
    "# Skill Drill\n",
    "####################################"
   ]
  },
  {
   "cell_type": "code",
   "execution_count": 100,
   "id": "2cf36149",
   "metadata": {},
   "outputs": [],
   "source": [
    "# Import Dependencies\n",
    "\n",
    "from splinter import Browser\n",
    "from bs4 import BeautifulSoup as soup\n",
    "from webdriver_manager.chrome import ChromeDriverManager"
   ]
  },
  {
   "cell_type": "code",
   "execution_count": 101,
   "id": "bc067e74",
   "metadata": {},
   "outputs": [
    {
     "name": "stderr",
     "output_type": "stream",
     "text": [
      "\n",
      "\n",
      "====== WebDriver manager ======\n",
      "Current google-chrome version is 94.0.4606\n",
      "Get LATEST driver version for 94.0.4606\n",
      "Driver [C:\\Users\\sljss\\.wdm\\drivers\\chromedriver\\win32\\94.0.4606.61\\chromedriver.exe] found in cache\n"
     ]
    }
   ],
   "source": [
    "# Set the executable path and initialize a browswe\n",
    "# Set up Splinter\n",
    "\n",
    "executable_path = {'executable_path': ChromeDriverManager().install()}\n",
    "browser = Browser('chrome', **executable_path, headless=False)"
   ]
  },
  {
   "cell_type": "code",
   "execution_count": 102,
   "id": "059c9420",
   "metadata": {},
   "outputs": [],
   "source": [
    "# Visit the Quotes to Scrape site\n",
    "url = 'http://books.toscrape.com//'\n",
    "browser.visit(url)"
   ]
  },
  {
   "cell_type": "code",
   "execution_count": 103,
   "id": "835888b2",
   "metadata": {},
   "outputs": [],
   "source": [
    "# Parse the HTML\n",
    "html = browser.html\n",
    "html_soup = soup(html, 'html.parser')"
   ]
  },
  {
   "cell_type": "code",
   "execution_count": 104,
   "id": "3ca1b700",
   "metadata": {},
   "outputs": [
    {
     "data": {
      "text/plain": [
       "'A Light in the ...'"
      ]
     },
     "execution_count": 104,
     "metadata": {},
     "output_type": "execute_result"
    }
   ],
   "source": [
    "# Scrape the Title\n",
    "title = html_soup.find('h3').text\n",
    "title"
   ]
  },
  {
   "cell_type": "code",
   "execution_count": 105,
   "id": "09128ebb",
   "metadata": {},
   "outputs": [
    {
     "data": {
      "text/plain": [
       "[<h3><a href=\"catalogue/a-light-in-the-attic_1000/index.html\" title=\"A Light in the Attic\">A Light in the ...</a></h3>,\n",
       " <h3><a href=\"catalogue/tipping-the-velvet_999/index.html\" title=\"Tipping the Velvet\">Tipping the Velvet</a></h3>,\n",
       " <h3><a href=\"catalogue/soumission_998/index.html\" title=\"Soumission\">Soumission</a></h3>,\n",
       " <h3><a href=\"catalogue/sharp-objects_997/index.html\" title=\"Sharp Objects\">Sharp Objects</a></h3>,\n",
       " <h3><a href=\"catalogue/sapiens-a-brief-history-of-humankind_996/index.html\" title=\"Sapiens: A Brief History of Humankind\">Sapiens: A Brief History ...</a></h3>,\n",
       " <h3><a href=\"catalogue/the-requiem-red_995/index.html\" title=\"The Requiem Red\">The Requiem Red</a></h3>,\n",
       " <h3><a href=\"catalogue/the-dirty-little-secrets-of-getting-your-dream-job_994/index.html\" title=\"The Dirty Little Secrets of Getting Your Dream Job\">The Dirty Little Secrets ...</a></h3>,\n",
       " <h3><a href=\"catalogue/the-coming-woman-a-novel-based-on-the-life-of-the-infamous-feminist-victoria-woodhull_993/index.html\" title=\"The Coming Woman: A Novel Based on the Life of the Infamous Feminist, Victoria Woodhull\">The Coming Woman: A ...</a></h3>,\n",
       " <h3><a href=\"catalogue/the-boys-in-the-boat-nine-americans-and-their-epic-quest-for-gold-at-the-1936-berlin-olympics_992/index.html\" title=\"The Boys in the Boat: Nine Americans and Their Epic Quest for Gold at the 1936 Berlin Olympics\">The Boys in the ...</a></h3>,\n",
       " <h3><a href=\"catalogue/the-black-maria_991/index.html\" title=\"The Black Maria\">The Black Maria</a></h3>,\n",
       " <h3><a href=\"catalogue/starving-hearts-triangular-trade-trilogy-1_990/index.html\" title=\"Starving Hearts (Triangular Trade Trilogy, #1)\">Starving Hearts (Triangular Trade ...</a></h3>,\n",
       " <h3><a href=\"catalogue/shakespeares-sonnets_989/index.html\" title=\"Shakespeare's Sonnets\">Shakespeare's Sonnets</a></h3>,\n",
       " <h3><a href=\"catalogue/set-me-free_988/index.html\" title=\"Set Me Free\">Set Me Free</a></h3>,\n",
       " <h3><a href=\"catalogue/scott-pilgrims-precious-little-life-scott-pilgrim-1_987/index.html\" title=\"Scott Pilgrim's Precious Little Life (Scott Pilgrim #1)\">Scott Pilgrim's Precious Little ...</a></h3>,\n",
       " <h3><a href=\"catalogue/rip-it-up-and-start-again_986/index.html\" title=\"Rip it Up and Start Again\">Rip it Up and ...</a></h3>,\n",
       " <h3><a href=\"catalogue/our-band-could-be-your-life-scenes-from-the-american-indie-underground-1981-1991_985/index.html\" title=\"Our Band Could Be Your Life: Scenes from the American Indie Underground, 1981-1991\">Our Band Could Be ...</a></h3>,\n",
       " <h3><a href=\"catalogue/olio_984/index.html\" title=\"Olio\">Olio</a></h3>,\n",
       " <h3><a href=\"catalogue/mesaerion-the-best-science-fiction-stories-1800-1849_983/index.html\" title=\"Mesaerion: The Best Science Fiction Stories 1800-1849\">Mesaerion: The Best Science ...</a></h3>,\n",
       " <h3><a href=\"catalogue/libertarianism-for-beginners_982/index.html\" title=\"Libertarianism for Beginners\">Libertarianism for Beginners</a></h3>,\n",
       " <h3><a href=\"catalogue/its-only-the-himalayas_981/index.html\" title=\"It's Only the Himalayas\">It's Only the Himalayas</a></h3>]"
      ]
     },
     "execution_count": 105,
     "metadata": {},
     "output_type": "execute_result"
    }
   ],
   "source": [
    "title = html_soup.find_all('h3')\n",
    "title"
   ]
  },
  {
   "cell_type": "code",
   "execution_count": 124,
   "id": "f867ad63",
   "metadata": {},
   "outputs": [
    {
     "name": "stdout",
     "output_type": "stream",
     "text": [
      "catalogue/a-light-in-the-attic_1000/index.html\n",
      "catalogue/a-light-in-the-attic_1000/index.html\n",
      "catalogue/tipping-the-velvet_999/index.html\n",
      "catalogue/tipping-the-velvet_999/index.html\n",
      "catalogue/soumission_998/index.html\n",
      "catalogue/soumission_998/index.html\n",
      "catalogue/sharp-objects_997/index.html\n",
      "catalogue/sharp-objects_997/index.html\n",
      "catalogue/sapiens-a-brief-history-of-humankind_996/index.html\n",
      "catalogue/sapiens-a-brief-history-of-humankind_996/index.html\n",
      "catalogue/the-requiem-red_995/index.html\n",
      "catalogue/the-requiem-red_995/index.html\n",
      "catalogue/the-dirty-little-secrets-of-getting-your-dream-job_994/index.html\n",
      "catalogue/the-dirty-little-secrets-of-getting-your-dream-job_994/index.html\n",
      "catalogue/the-coming-woman-a-novel-based-on-the-life-of-the-infamous-feminist-victoria-woodhull_993/index.html\n",
      "catalogue/the-coming-woman-a-novel-based-on-the-life-of-the-infamous-feminist-victoria-woodhull_993/index.html\n",
      "catalogue/the-boys-in-the-boat-nine-americans-and-their-epic-quest-for-gold-at-the-1936-berlin-olympics_992/index.html\n",
      "catalogue/the-boys-in-the-boat-nine-americans-and-their-epic-quest-for-gold-at-the-1936-berlin-olympics_992/index.html\n",
      "catalogue/the-black-maria_991/index.html\n",
      "catalogue/the-black-maria_991/index.html\n",
      "catalogue/starving-hearts-triangular-trade-trilogy-1_990/index.html\n",
      "catalogue/starving-hearts-triangular-trade-trilogy-1_990/index.html\n",
      "catalogue/shakespeares-sonnets_989/index.html\n",
      "catalogue/shakespeares-sonnets_989/index.html\n",
      "catalogue/set-me-free_988/index.html\n",
      "catalogue/set-me-free_988/index.html\n",
      "catalogue/scott-pilgrims-precious-little-life-scott-pilgrim-1_987/index.html\n",
      "catalogue/scott-pilgrims-precious-little-life-scott-pilgrim-1_987/index.html\n",
      "catalogue/rip-it-up-and-start-again_986/index.html\n",
      "catalogue/rip-it-up-and-start-again_986/index.html\n",
      "catalogue/our-band-could-be-your-life-scenes-from-the-american-indie-underground-1981-1991_985/index.html\n",
      "catalogue/our-band-could-be-your-life-scenes-from-the-american-indie-underground-1981-1991_985/index.html\n",
      "catalogue/olio_984/index.html\n",
      "catalogue/olio_984/index.html\n",
      "catalogue/mesaerion-the-best-science-fiction-stories-1800-1849_983/index.html\n",
      "catalogue/mesaerion-the-best-science-fiction-stories-1800-1849_983/index.html\n",
      "catalogue/libertarianism-for-beginners_982/index.html\n",
      "catalogue/libertarianism-for-beginners_982/index.html\n",
      "catalogue/its-only-the-himalayas_981/index.html\n",
      "catalogue/its-only-the-himalayas_981/index.html\n"
     ]
    }
   ],
   "source": [
    "# Scrape the url\n",
    "tag_box = html_soup.find('ol', class_='row')\n",
    "\n",
    "# tag_box\n",
    "tags = tag_box.find_all('a')\n",
    "\n",
    "\n",
    "for tag in tags:\n",
    "    \n",
    "    print(tag.get('href'))"
   ]
  },
  {
   "cell_type": "code",
   "execution_count": null,
   "id": "3db4b0db",
   "metadata": {},
   "outputs": [],
   "source": []
  },
  {
   "cell_type": "code",
   "execution_count": null,
   "id": "7c444c41",
   "metadata": {},
   "outputs": [],
   "source": []
  }
 ],
 "metadata": {
  "kernelspec": {
   "display_name": "PythonData",
   "language": "python",
   "name": "pythondata"
  },
  "language_info": {
   "codemirror_mode": {
    "name": "ipython",
    "version": 3
   },
   "file_extension": ".py",
   "mimetype": "text/x-python",
   "name": "python",
   "nbconvert_exporter": "python",
   "pygments_lexer": "ipython3",
   "version": "3.7.10"
  }
 },
 "nbformat": 4,
 "nbformat_minor": 5
}
